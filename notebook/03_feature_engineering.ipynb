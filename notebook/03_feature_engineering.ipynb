{
 "cells": [
  {
   "cell_type": "markdown",
   "id": "0e2f6298",
   "metadata": {},
   "source": [
    "### Import Required Libraries"
   ]
  },
  {
   "cell_type": "code",
   "execution_count": null,
   "id": "e43b0c60",
   "metadata": {},
   "outputs": [],
   "source": [
    "import pandas as pd\n",
    "import numpy as np\n",
    "\n",
    "# For encoding categorical variables\n",
    "from sklearn.preprocessing import LabelEncoder, OneHotEncoder\n",
    "\n",
    "# For scaling features \n",
    "from sklearn.preprocessing import StandardScaler, MinMaxScaler\n",
    "\n",
    "# For dimensionality reduction \n",
    "from sklearn.decomposition import PCA\n",
    "\n",
    "# For handling missing data \n",
    "from sklearn.impute import SimpleImputer"
   ]
  },
  {
   "cell_type": "code",
   "execution_count": 3,
   "id": "ee01ad88",
   "metadata": {},
   "outputs": [],
   "source": [
    "df = pd.read_csv('../data/processed/merged_cleaned_trials.csv')"
   ]
  },
  {
   "cell_type": "code",
   "execution_count": 4,
   "id": "c8ddef0e",
   "metadata": {},
   "outputs": [
    {
     "data": {
      "text/plain": [
       "NCT Number                          object\n",
       "study_title                         object\n",
       "study_status                         int64\n",
       "brief_summary                       object\n",
       "conditions                          object\n",
       "interventions                       object\n",
       "primary_outcome_measures            object\n",
       "secondary_outcome_measures          object\n",
       "sponsor                             object\n",
       "enrollment                           int64\n",
       "study_type                          object\n",
       "study_design                        object\n",
       "last_update_posted                  object\n",
       "locations                           object\n",
       "study_duration_days                float64\n",
       "sex_all                               bool\n",
       "sex_female                            bool\n",
       "sex_male                              bool\n",
       "has_child                            int64\n",
       "has_adult                            int64\n",
       "has_older_adult                      int64\n",
       "phase1                               int64\n",
       "phase2                               int64\n",
       "phase3                               int64\n",
       "funder_fed                            bool\n",
       "funder_indiv                          bool\n",
       "funder_industry                       bool\n",
       "funder_network                        bool\n",
       "funder_nih                            bool\n",
       "funder_other                          bool\n",
       "funder_other_gov                      bool\n",
       "funder_unknown                        bool\n",
       "missing_start_date                   int64\n",
       "missing_primary_completion_date      int64\n",
       "missing_completion_date              int64\n",
       "dtype: object"
      ]
     },
     "execution_count": 4,
     "metadata": {},
     "output_type": "execute_result"
    }
   ],
   "source": [
    "# Check data types\n",
    "df.dtypes"
   ]
  },
  {
   "cell_type": "code",
   "execution_count": 5,
   "id": "2ee3294d",
   "metadata": {},
   "outputs": [
    {
     "name": "stdout",
     "output_type": "stream",
     "text": [
      "\n",
      "Column: NCT Number\n",
      "['NCT06767735' 'NCT06767748' 'NCT06767761' 'NCT06305286' 'NCT06727721'\n",
      " 'NCT06946628' 'NCT06762314' 'NCT06619301' 'NCT06847178' 'NCT06430125']\n",
      "\n",
      "Column: study_title\n",
      "['A Phase III Clinical Study to Assess the Efficacy and Safety of GZR4 in Insulin-naive Subjects with Type 2 Diabetes Mellitus (T2DM)'\n",
      " 'A Phase III Clinical Study to Assess the Efficacy and Safety of GZR4 in Subjects With Type 2 Diabetes Mellitus Treated With Basal Insulin'\n",
      " 'A Phase III Clinical Study to Assess the Efficacy and Safety of GZR4 in Type 2 Diabetes Mellitus Subjects (T2DM) Treated with Basal + Prandial Insulin'\n",
      " 'Safety, Tolerability, and Efficacy of Immunomodulation With A Monoclonal Antibody Against CD40L in Combination With Transplanted Islet Cells in Adults With Brittle Type 1 Diabetes Mellitus (T1D)'\n",
      " 'Safety and Efficacy of OCN19-overexpressed Human Umbilical Cord-derived Mesenchymal Stem Cells in the Treatment of Refractory Type 2 Diabetes Mellitus'\n",
      " 'New Triple Therapy in Newly Diagnosed Type 2 Diabetes'\n",
      " 'Efficacy and Safety of Empagliflozin or Semaglutide in Overweight/Obese Patients With Type 1 Diabetes'\n",
      " 'RCT Glargine vs NPH for Treatment of DM in Pregnancy'\n",
      " 'Efficacy and Safety of LC-Z300-01 in Chinese With Type 2 Diabetes'\n",
      " 'Nephroprotective Effect of Nicorandil in Type 2 Diabetes Mellitus']\n",
      "\n",
      "Column: brief_summary\n",
      "['This study will be conducted to compare the efficacy, safety and patient-reported outcome of once-weekly GZR4 and once-daily Insulin Glargine U100 with Non-Insulin Antidiabetic Agents in Insulin-naive Subjects with Type 2 Diabetes Mellitusin.'\n",
      " 'This study will be conducted to compare the efficacy, safety and patient-reported outcome of once-weekly GZR4 and once-daily Insulin Degludec with or without Non-Insulin Antidiabetic Agents in subjects with Type 2 Diabetes Mellitus (T2DM) treated with basal insulin.'\n",
      " 'This study will be conducted to compare the efficacy, safety and patient-reported outcome of once-weekly GZR4 and once-daily Insulin Glargine U100 in Combination with Insulin Aspart (with or without Non-Insulin Antidiabetic Agents) in Subjects with Type 2 Diabetes Mellitus (T2DM) Treated with Basal+Prandial Insulin Treatment'\n",
      " \"AT-1501 is a monoclonal antibody. Antibodies are Y-shaped proteins that are produced naturally by the subject's immune system to attack and fight foreign substances that cause illness. Monoclonal antibodies are man-made proteins manufactured to serve as substitute antibodies to fight diseases. Monoclonal antibodies can restore, enhance, or mimic (copy) the immune system's attack process; they can also tone down the immune system. AT-1501 is thought to work by dampening down the immune system so that it will be less likely to attack the transplanted cells. For other types of transplants, like kidney, a drug called a calcineurin inhibitor is usually used to prevent rejection. That class of drugs can be toxic to islet cells. AT-1501 is an experimental agent that is anticipated to prevent rejection without harming the islet cells.\"\n",
      " 'Umbilical cord mesenchymal stem cell injection expressing OCN19, while playing the role of MSCs, can directly stimulate the expression of insulin gene and the division and proliferation of islet beta cells, which is expected to further enhance the therapeutic effect of stem cells. In non-clinical studies, it was found that MSCs expressing OCN19 had better hypoglycemic effect than MSCs'\n",
      " 'The goal of this clinical trial is to learn the efficany of combination therapy with semaglutide, empagliflozin and pioglitazone versus standard therapy in newly diagnosed type 2 diabetes. The main objectives to achieve are:\\n\\n1. To compare efficacy of the triple combination therapy against standard therapy in achieving type 2 diabetes remission in patients newly diagnosed with T2DM.\\n2. To compare the effects on β-cell function and glycemic control of the triple combination therapy against standard therapy in patients newly diagnosed with T2DM\\n\\nResearchers will compare drug new triple combination therapy with semaglutide, empagliflozin, and pioglitazone to standard therapy (metformin-based treatment) to see if new triple combination therapy works better in achieving type 2 diabetes remission .\\n\\nParticipants will:\\n\\n1. Take new triple combination therapy or a standard therapy every day for 6 months\\n2. Visit the clinic once every 0.5-1 month for checkups and tests\\n3. Keep a diary of their fingertip blood glucose and adverse events'\n",
      " 'Type 1 Diabetes (T1DM) is a disease characterised by immune mediated destruction of the insulin-producing pancreatic beta cells. Overtime, obvious insulin deficiency develops which requires insulin therapy. T1DM accounts for about 5% to 10% of diabetes cases in Europe and United States. Currently, worldwide incidence is estimated to be around 15 per 100,000 people per year. Despite the advancement that has occurred in the field diabetes therapy, patient with T1DM still suffer from managing their disease as well as continuing to face diabetes related complications. The American Diabetes Association (ADA) recommend a goal of glycated haemoglobin (HbA1c) of \\\\< 7%. However, only 21% of adults in the United States has achieved this recommended goal. Once again, a multinational, multicentre study shows that only 24.3% of participants achieved the glycaemic target of HbA1c less than 7.0 %. Unfortunately, intensifying the insulin therapy in order to reach the targeted HbA1c can result in serious adverse effects of hypoglycaemia and weight gain which is in its turn is known risk factor for cardiovascular disease.'\n",
      " 'We are asking you to take part in this research study because you are diagnosed with pregestational Type 2 Diabetes Mellitus or Gestational Diabetes Mellitus requiring insulin therapy in pregnancy. Currently, many hospitals differ among use of insulin for management of DM in pregnancy, with NPH, glargine and detemir being the most commonly used forms of basal insulin. Outside of pregnancy, NPH is rarely used with glargine and determir being the more common forms of insulin used due to their fewer episodes of hypoglycemia in these patients. Detemir has been well studied in pregnancy and found to be noninferior to NPH. Unfortunately, glargine has not been as well studied in pregnancy. Thus, with this study we want to compare glargine and NPH.\\n\\nThe purpose of this study is to compare two different forms of insulin (Glargine and NPH) that we regularly use to manage diabetes mellitus in pregnancy.'\n",
      " 'This trial is conducted in China. The aim of the trial is to investigate the efficacy and safety of an Bamboo cane polysaccharide (oral LC-Z300-01) in subjects with type 2 diabetes.'\n",
      " 'This study aims to evaluate the possible nephroprotective effect of nicorandil in patients with type 2 diabetes mellitus .']\n",
      "\n",
      "Column: conditions\n",
      "['Diabetes' 'Diabetes Mellitus' 'Diabetes|Type 2 Diabetes'\n",
      " 'Diabetes Mellitus in Pregnancy|Type 2 Diabetes Mellitus (T2DM)|Gestational Diabetes Mellitus, Class A2'\n",
      " 'Type2 Diabetes Mellitus' 'Type 1 Diabetes|Diabetes Mellitus'\n",
      " 'Type 2 Diabetes Mellitus' 'Diabetes Mellitus, Type 2'\n",
      " 'Type 2 Diabetes Mellitus (T2DM)|Obesity Type 2 Diabetes Mellitus'\n",
      " 'Indigestion|Diabetes Mellitus']\n",
      "\n",
      "Column: interventions\n",
      "['DRUG: GZR4|DRUG: Insulin Glargine U100'\n",
      " 'DRUG: GZR4|DRUG: insulin degludec'\n",
      " 'DRUG: GZR4|DRUG: Insulin Glargine U100 group' 'DRUG: AT-1501'\n",
      " 'BIOLOGICAL: mesenchymal stem cells with OCN-19|BIOLOGICAL: Mesenchymal stem cells|BIOLOGICAL: albumin injection'\n",
      " 'DRUG: Group A (triple combination therapy group)|DRUG: Group B (standard therapy group)'\n",
      " 'DRUG: Insulin|DRUG: Semaglutide|DRUG: Empagliflozin'\n",
      " 'DRUG: Insulin glargine|DRUG: insulin NPH'\n",
      " 'DIETARY_SUPPLEMENT: Placebo twice daily in blinding|DRUG: Low-dose LC-Z300-01 twice daily in blinding|DRUG: High-dose LC-Z300-01 twice daily in blinding|DRUG: High-dose LCZ300-1 twice daily in open-label'\n",
      " 'DRUG: Nicorandil 10 MG Oral Tablet']\n",
      "\n",
      "Column: primary_outcome_measures\n",
      "['Change in HbA1c, From baseline (week 0) to week 26'\n",
      " 'Number of Participants who are insulin-independent post- first and final transplant, Day 75 and Day 365'\n",
      " 'Daily insulin dose is used, From enrollment to 1 month, 3 months, 6 months and 1 year after treatment'\n",
      " 'Diabetic remission rate, Diabetic remission rate at 6 months after discontinuation of medication (percentage of patients with HbA1c \\\\<6.5% at 6 months after discontinuation of medication), 6 months after discontinuation of medication'\n",
      " 'The primary outcome of this trial is the change in glycated haemoglobin from baseline after 3 months of treatment., The primary outcome of this trial is the change in glycated haemoglobin from baseline after 3 months of treatment., 3 months'\n",
      " 'Hypoglycemia, Episodes of hypoglycemia with blood glucose less than 60 mg/dL, From initiation of insulin therapy to delivery'\n",
      " 'Number of treatment emergent adverse events, The differences in adverse events between the patients taking the drug and the placebo group were observed during the double-blind and open-label phases., From baseline week 0 to week 26|Change in glycated haemoglobin (HbA1c), During the double-blind and open-label phases, the changes in dynamic blood glucose and CGMS values of patients taking the medication compared with the baseline were observed and compared with those in the placebo group., From baseline week 0 to week 12 and to week 24'\n",
      " 'prevention of progression of kidney disease as measured by KDIGO., Patients wii undergo clinical assesment for progression of diabetic nephropathy as measured by KDIGO at baseline and after 12 weeks, 12 weeks'\n",
      " 'Percentage of daytime plasma glucose levels spent in target range (semaglutide vs. placebo), Target range is defined to be between 3.9 and 10.0 mmol/L of plasma glucose for placebo vs semaglutide (at maximal tolerated dose) on closed-loop insulin therapy, 24 weeks'\n",
      " 'Change from baseline in glycated hemoglobin (HbA1c) levels., 120 days']\n",
      "\n",
      "Column: secondary_outcome_measures\n",
      "['Change in HbA1c, From baseline (week 0) to week 52|hypoglycaemia events, From baseline (week 0) to week 26/52|adverse events, From baseline (week 0) to week 26/52|Change in weight, From baseline (week 0) to week 26'\n",
      " 'hypoglycaemia events, From baseline (week 0) to week 26|adverse events, From baseline (week 0) to week 26|Change in weight, From baseline (week 0) to week 26'\n",
      " 'Number of Participants with glycosylated hemoglobin (HbA1c) <7.0%, at Day 365'\n",
      " 'Changes in Fasting Blood Glucose Levels Over Time, Fasting Blood Glucose (FBG) Definition: Blood sugar levels measured after fasting for at least 8 hours. Methods of measurement: Blood samples are determined using standardized laboratory analytical methods.\\n\\nUnit: Expressed in mg/dL (mg/dL). Time point: Measurements were taken at baseline, 12 and 24 weeks post-treatment.\\n\\nGoal: The target fasting blood glucose level in the study was \\\\<100 mg/dL., From enrollment to 1 month, 3 months, 6 months and 1 year after treatment|Concentration of Hemoglobin A1c in Participants, Definition: The proportion of hemoglobin bound to glucose that reflects average blood sugar levels over the past 2-3 months.\\n\\nMethods of measurement: Blood samples were analyzed using high performance liquid chromatography (HPLC).\\n\\nUnit: Expressed in percentage (%). Time point: Measurements were taken at baseline, 12 and 24 weeks post-treatment.\\n\\nTarget: The target HbA1c level in the study was \\\\<7.0%., From enrollment to 3 months, 6 months and 1 year after treatment|Concentration of fasting c-peptide in Participants, Definition: Clarify the definition of fasting C-peptide, which usually refers to the level of C-peptide measured in the fasting state, C-peptide is a by-product of insulin synthesis and reflects the function of islet beta cells.\\n\\nMeasurement methods: Describe specific methods used to measure C-peptide, such as enzyme-linked immunosorbent assay (ELISA) .\\n\\nUnits: Usually expressed in picmole/liter (pmol/L) or nanogram/milliliter (ng/mL)., From enrollment to 1 month, 3 months, 6 months and 1 year after treatment|Concentration of Glycated albumin in Participants, Definition: The proportion of albumin bound to glucose, reflecting the average blood sugar level over the past 2-3 weeks.\\n\\nMethods of measurement: Blood samples were analyzed using immunoassays. Unit: Expressed in percentage (%), From enrollment to 1 month, 3 months, 6 months and 1 year after treatment|Concentration of 2-hour postprandial C-peptide in Participants, Definition: 2-hour postprandial C-peptide refers to the level of C-peptide measured 2 hours after eating, C-peptide is a by-product of insulin synthesis, reflecting the function of islet beta cells and insulin secretion capacity.\\n\\nMethods of measurement: Blood samples are analyzed using standardized methods such as enzyme-linked immunosorbent assay (ELISA) or radioimmunoassay (RIA).\\n\\nUnits: Usually expressed in picomoles per liter (pmol/L) or nanograms per milliliter (ng/mL)., From enrollment to 1 month, 3 months, 6 months and 1 year after treatment|Concentration of total cholesterol in Participants, Definition: Total cholesterol is the sum of all cholesterol in the blood, including low-density lipoprotein cholesterol (LDL-C), high-density lipoprotein cholesterol (HDL-C), and very low-density lipoprotein cholesterol (VLDL-C). Total cholesterol level is an important indicator of cardiovascular health.\\n\\nMethods of measurement: Blood samples are tested using standardized blood chemical analysis methods, usually enzymatic or chemical.\\n\\nUnit: Usually expressed in milligrams per deciliter (mg/dL).\\n\\nTarget value: The normal range of total cholesterol in the study is usually:\\n\\nIdeal level: \\\\<200 mg/dL Marginal high levels: 200-239 mg/dL High level: ≥240 mg/dL, From enrollment to 1 month, 3 months, 6 months and 1 year after treatment|Concentration of LDL in Participants, Low Density Lipoprotein Cholesterol (LDL-C) Definition: Low-density lipoprotein cholesterol (LDL-C) is a major form of cholesterol transport in the blood and is often referred to as \"bad cholesterol.\" High levels of LDL-C are associated with an increased risk of cardiovascular disease, atherosclerosis, and other cardiovascular events.\\n\\nMethods of measurement: Blood samples are tested using standardized blood chemical analysis methods, usually enzymatic or chemical.\\n\\nUnit: Usually expressed in milligrams per deciliter (mg/dL).\\n\\nTarget values: The normal range of LDL-C in studies is usually:\\n\\nIdeal level: \\\\<100 mg/dL Near ideal/borderline high l, From enrollment to 1 month, 3 months, 6 months and 1 year after treatment'\n",
      " \"Diabetic remission rate, Diabetic remission rate at 3 and 12 months after discontinuation of medication and the time of diabetic remission, 3 and 12 months after discontinuation of medication|Time required to achieve glycemic goal, The time required to achieve glycemic goal(FBG \\\\<6.1mmol/L, 2h PPG \\\\<8.0mmol/L or HbA1c\\\\<6.5%), 6 months of medication|EQ-5D-5L questionnaires, quality of life, EQ-5D-5L questionnaires, assessment of quality of life. The EQ-5D-5L essentially consists of 2 pages: the EQ-5D descriptive system and the EQ visual analogue scale (EQ VAS).\\n\\nThe descriptive system comprises five dimensions: mobility, self-care, usual activities, pain/discomfort and anxiety/depression. Each dimension has 5 levels: no problems, slight problems, moderate problems, severe problems and extreme problems.\\n\\nThe EQ VAS records the patient's self-rated health on a vertical visual analogue scale where the endpoints are labelled 'The best health you can imagine' and 'The worst health you can imagine'. The VAS can be used as a quantitative measure of health outcome that reflects the patient's own judgement., At baseline, at 6 months of medication treatment, and at 3, 6, and 12 months after discontinuation of medication|Incremental cost per additional remission, Incremental cost per additional remission at 6 months after discontinuation of medication, 6 months after discontinuation of medication|HbA1c, HbA1c level at baseline, at 6 months of medication, and at 3, 6, and 12 months after discontinuation of medication, baseline, at 6 months of medication, and at 3, 6, and 12 months after discontinuation of medication|Blood glucose level, Fasting and 2-hour postprandial blood glucose level at baseline, at 6 months of medication, and at 3, 6, and 12 months after discontinuation of medication, baseline, at 6 months of medication, and at 3, 6, and 12 months after discontinuation of medication|Blood insulin level, Fasting and 2-hour postprandial insulin level at baseline, at 6 months of medication, and at 3, 6, and 12 months after discontinuation of medication, baseline, at 6 months of medication, and at 3, 6, and 12 months after discontinuation of medication|Blood C-peptide level, Fasting and 2-hour postprandial C-peptide level at baseline, at 6 months of medication, and at 3, 6, and 12 months after discontinuation of medication, baseline, at 6 months of medication, and at 3, 6, and 12 months after discontinuation of medication|Pancreatic β-cell function, HOMA-B at baseline, at 6 months of medication, and at 3, 6, and 12 months after discontinuation of medication, baseline, at 6 months of medication, and at 3, 6, and 12 months after discontinuation of medication|Insulin resistance, HOMA-IR at baseline, at 6 months of medication, and at 3, 6, and 12 months after discontinuation of medication, baseline, at 6 months of medication, and at 3, 6, and 12 months after discontinuation of medication|Weight changes, Weight at baseline, at 6 months of medication, and at 3, 6, and 12 months after discontinuation of medication, baseline, at 6 months of medication, and at 3, 6, and 12 months after discontinuation of medication|Time in range (TIR), Time within the target blood glucose range (3.9-10.0 mmol/L), At baseline, at 6 months of medication treatment, and at 6 months after discontinuation of medication|Incremental cost per additional improvement in Time in Range (TIR), Incremental cost per additional improvement in Time in Range (TIR) at 6 months of medication treatment, and at 6 months after discontinuation of medication, 6 months of medication treatment, and at 6 months after discontinuation of medication|Incremental cost per QALY gained, Incremental cost per QALY gained, derived from EQ-5D-5L assessments at baseline, at 6 months of medication treatment, and at 3, 6, and 12 months after discontinuation of medication, at baseline, at 6 months of medication treatment, and at 3, 6, and 12 months after discontinuation of medication\"\n",
      " 'Not specified'\n",
      " 'Large for Gestational Age, Birth weight greater than or equal to the 90th percentile for gestational age, At delivery|Shoulder dystocia, Diagnosed by delivering providing, At delivery'\n",
      " 'Change in Time in Range (TIR), During the double-blind and open-label phases, the changes in dynamic blood glucose and CGMS values of patients taking the medication compared with the baseline were observed and compared with those in the placebo group., From baseline week 0 to week 12 and to week 24'\n",
      " 'change in the serum concentrations of Kidney injury molecule 1(Kim-1)., Venous blood will be collected before treatment and after 12 week ., 12 weeks|change in the serum concentrations of Interleukin 18 (IL-18)., Venous blood will be collected before treatment and after 12 week ., 12 weeks|change in the serum concentrations of Nitric oxide (NO)., Venous blood will be collected before treatment and after 12 week ., 12 weeks'\n",
      " 'Percentage of time spent in the range of glucose levels between 3.9 and 7.8 mmol/L, % as per CGM data, 24 weeks|Percentage of time spent in glucose levels below 3.9 and 3.0 mmol/L, % as per CGM data, 24 weeks|Percentage of time spent in glucose levels above 7.8, 10 and 13.9 mmol/L, % as per CGM data, 24 weeks|Mean glucose level, Defined as per CGM data, in mmol/L, 24 weeks|Standard deviation of glucose levels as a measure of glucose variability, Defined as per CGM data, in mmol/L, 24 weeks|Percentage coefficient of variation of glucose levels, % as per CGM data, 24 weeks|Proportions of participants with time in range between 3.9 - 10.0 mmol/L≥ 70%, As per CGM data, 24 weeks|Glycated hemoglobin (HbA1c), Blood test to assess glucose control within 3-4 months, 24 weeks|Area under the curve 0-2h post meal, 0-3h post peal, As per CGM data, 24 weeks|Average scores between interventions on the Type 1 Diabetes Distress Scale questionnaire, 17-item questionnaire with a 6-point Likert scale from 1 (no stress) to 6 (high stress) for each item. Total score obtained from summing the scores of all items, 24 weeks|Average scores between interventions on the Diabetes Treatment Satisfaction questionnaire, 8-item questionnaire with a 7-point Likert scale ranging from 0 (low satisfaction) to 6 (high satisfaction). Total score obtained from summing the scores of all items., 24 weeks|Average scores between interventions based on the Hypoglycemic Fear Survey - II, 33-item questionnaire with a 5-point Likert scale ranging from 1 (never) to 5 (almost always). Total score obtained from summing the scores of all items., 24 weeks|Heart rate, Beats per minute, 24 weeks|Blood pressure, mmHg, 24 weeks|Measure of body weight, Measurements done at visit - weight in kilograms, 24 weeks|Measure of body mass index, Measurements done at visit - body mass index as per kg/m\\\\^2, 24 weeks|Measure of waist circumference and hip circumference, Measurements done at visit - circumference in cm, 24 weeks|Measure of waist-to-hip ratio, Measurements done at visit, 24 weeks|Lipid profile, specifically: LDL-cholesterol, HDL-cholesterol, triglycerides, Blood tests, in mmol/L, 24 weeks|Urine albumin-creatinine ratio, Urine test, 24 weeks']\n",
      "\n",
      "Column: sponsor\n",
      "['Gan & Lee Pharmaceuticals.' 'University of Chicago' 'Lu jin ，MD'\n",
      " 'Sun Yat-sen University' 'Mostafa Bahaa' 'Loyola University'\n",
      " 'Shanghai Changzheng Hospital' 'Tanta University'\n",
      " 'McGill University Health Centre/Research Institute of the McGill University Health Centre'\n",
      " 'EMS']\n",
      "\n",
      "Column: study_type\n",
      "['INTERVENTIONAL']\n",
      "\n",
      "Column: study_design\n",
      "['Allocation: RANDOMIZED|Intervention Model: PARALLEL|Masking: NONE|Primary Purpose: TREATMENT'\n",
      " 'Allocation: NON_RANDOMIZED|Intervention Model: SINGLE_GROUP|Masking: NONE|Primary Purpose: TREATMENT'\n",
      " 'Allocation: RANDOMIZED|Intervention Model: PARALLEL|Masking: TRIPLE (PARTICIPANT, CARE_PROVIDER, INVESTIGATOR)|Primary Purpose: TREATMENT'\n",
      " 'Allocation: RANDOMIZED|Intervention Model: SEQUENTIAL|Masking: TRIPLE (PARTICIPANT, CARE_PROVIDER, INVESTIGATOR)|Primary Purpose: TREATMENT'\n",
      " 'Allocation: RANDOMIZED|Intervention Model: PARALLEL|Masking: NONE|Primary Purpose: PREVENTION'\n",
      " 'Allocation: RANDOMIZED|Intervention Model: CROSSOVER|Masking: QUADRUPLE (PARTICIPANT, CARE_PROVIDER, INVESTIGATOR, OUTCOMES_ASSESSOR)|Primary Purpose: TREATMENT'\n",
      " 'Allocation: RANDOMIZED|Intervention Model: PARALLEL|Masking: DOUBLE (PARTICIPANT, INVESTIGATOR)|Primary Purpose: TREATMENT'\n",
      " 'Allocation: RANDOMIZED|Intervention Model: PARALLEL|Masking: QUADRUPLE (PARTICIPANT, CARE_PROVIDER, INVESTIGATOR, OUTCOMES_ASSESSOR)|Primary Purpose: TREATMENT'\n",
      " 'Allocation: RANDOMIZED|Intervention Model: PARALLEL|Masking: SINGLE (INVESTIGATOR)|Primary Purpose: BASIC_SCIENCE'\n",
      " 'Allocation: RANDOMIZED|Intervention Model: PARALLEL|Masking: TRIPLE (PARTICIPANT, INVESTIGATOR, OUTCOMES_ASSESSOR)|Primary Purpose: TREATMENT']\n",
      "\n",
      "Column: last_update_posted\n",
      "['2025-01-10' '2025-04-04' '2024-09-19' '2024-12-17' '2025-04-27'\n",
      " '2025-02-25' '2024-10-01' '2025-02-26' '2024-05-28' '2024-12-18']\n",
      "\n",
      "Column: locations\n",
      "['Not specified'\n",
      " 'Gan & Lee Pharmaceuticals Shandong Co., Ltd., Linyi, Shandong, 276000, China'\n",
      " 'University of Chicago, Chicago, Illinois, 60637, United States'\n",
      " 'Changhai Hospital, Shanghai, China'\n",
      " 'The First Affiliated Hospital of Sun Yat-sen University, Guangzhou, Guangdong, 510080, China'\n",
      " 'Tanta Unuversity, Tanta, 31527, Egypt'\n",
      " 'Loyola University Medical Center, Maywood, Illinois, 60153, United States'\n",
      " 'Shanghai Changzheng Hospital, Shanghai, Shanghai, 20003, China'\n",
      " 'Tanta University, Tanta, EL Gharbia, Egypt'\n",
      " 'Research Institute of the McGill University Health Centre, Montreal, Quebec, H4A 3J1, Canada']\n"
     ]
    }
   ],
   "source": [
    "# Check unique values of categorical features\n",
    "for col in df.select_dtypes(include='object').columns:\n",
    "    print(f\"\\nColumn: {col}\")\n",
    "    print(df[col].unique()[:10])  "
   ]
  },
  {
   "cell_type": "code",
   "execution_count": 6,
   "id": "5162aaba",
   "metadata": {},
   "outputs": [],
   "source": [
    "df = df.drop(['NCT Number', 'study_title', 'brief_summary', 'last_update_posted'], axis=1)"
   ]
  },
  {
   "cell_type": "code",
   "execution_count": 7,
   "id": "801baa9e",
   "metadata": {},
   "outputs": [
    {
     "data": {
      "text/plain": [
       "study_status                       0\n",
       "has_older_adult                    0\n",
       "missing_primary_completion_date    0\n",
       "missing_start_date                 0\n",
       "funder_unknown                     0\n",
       "funder_other_gov                   0\n",
       "funder_other                       0\n",
       "funder_nih                         0\n",
       "funder_network                     0\n",
       "funder_industry                    0\n",
       "funder_indiv                       0\n",
       "funder_fed                         0\n",
       "phase3                             0\n",
       "phase2                             0\n",
       "phase1                             0\n",
       "has_adult                          0\n",
       "conditions                         0\n",
       "has_child                          0\n",
       "sex_male                           0\n",
       "sex_female                         0\n",
       "sex_all                            0\n",
       "study_duration_days                0\n",
       "locations                          0\n",
       "study_design                       0\n",
       "study_type                         0\n",
       "enrollment                         0\n",
       "sponsor                            0\n",
       "secondary_outcome_measures         0\n",
       "primary_outcome_measures           0\n",
       "interventions                      0\n",
       "missing_completion_date            0\n",
       "dtype: int64"
      ]
     },
     "execution_count": 7,
     "metadata": {},
     "output_type": "execute_result"
    }
   ],
   "source": [
    "df.isnull().sum().sort_values(ascending=False)"
   ]
  },
  {
   "cell_type": "code",
   "execution_count": 8,
   "id": "38e39467",
   "metadata": {},
   "outputs": [],
   "source": [
    "le = LabelEncoder()\n",
    "df['study_type'] = le.fit_transform(df['study_type'])\n",
    "df['study_design'] = le.fit_transform(df['study_design'])\n",
    "df['sponsor'] = le.fit_transform(df['sponsor']) "
   ]
  },
  {
   "cell_type": "code",
   "execution_count": 9,
   "id": "6fea0e1e",
   "metadata": {},
   "outputs": [
    {
     "data": {
      "text/plain": [
       "sponsor\n",
       "617     170\n",
       "1098    109\n",
       "1739    106\n",
       "1242     93\n",
       "1158     85\n",
       "       ... \n",
       "691       1\n",
       "1826      1\n",
       "1854      1\n",
       "1425      1\n",
       "236       1\n",
       "Name: count, Length: 2218, dtype: int64"
      ]
     },
     "execution_count": 9,
     "metadata": {},
     "output_type": "execute_result"
    }
   ],
   "source": [
    "df['sponsor'].nunique()\n",
    "df['sponsor'].value_counts()"
   ]
  },
  {
   "cell_type": "code",
   "execution_count": 11,
   "id": "5ad0ff43",
   "metadata": {},
   "outputs": [],
   "source": [
    "# Reduce cardinality\n",
    "top_sponsors = df['sponsor'].value_counts().nlargest(10).index\n",
    "df['sponsor'] = df['sponsor'].apply(lambda x: x if x in top_sponsors else 'Other')\n",
    "\n",
    "# Convert all to string\n",
    "df['sponsor'] = df['sponsor'].astype(str)\n",
    "\n",
    "# Encode\n",
    "from sklearn.preprocessing import LabelEncoder\n",
    "le = LabelEncoder()\n",
    "df['sponsor'] = le.fit_transform(df['sponsor'])"
   ]
  },
  {
   "cell_type": "code",
   "execution_count": 12,
   "id": "5ccaf98d",
   "metadata": {},
   "outputs": [
    {
     "data": {
      "text/plain": [
       "sponsor\n",
       "9    5880\n",
       "8     170\n",
       "0     109\n",
       "5     106\n",
       "3      93\n",
       "1      85\n",
       "7      66\n",
       "4      65\n",
       "2      54\n",
       "6      48\n",
       "Name: count, dtype: int64"
      ]
     },
     "execution_count": 12,
     "metadata": {},
     "output_type": "execute_result"
    }
   ],
   "source": [
    "df['sponsor'].nunique()\n",
    "df['sponsor'].value_counts()"
   ]
  },
  {
   "cell_type": "code",
   "execution_count": 13,
   "id": "123ed110",
   "metadata": {},
   "outputs": [
    {
     "data": {
      "text/plain": [
       "study_status\n",
       "1    5147\n",
       "0    1529\n",
       "Name: count, dtype: int64"
      ]
     },
     "execution_count": 13,
     "metadata": {},
     "output_type": "execute_result"
    }
   ],
   "source": [
    "df['study_status'].value_counts()"
   ]
  },
  {
   "cell_type": "code",
   "execution_count": 15,
   "id": "be3a2921",
   "metadata": {},
   "outputs": [
    {
     "data": {
      "text/plain": [
       "study_status                         int64\n",
       "conditions                          object\n",
       "interventions                       object\n",
       "primary_outcome_measures            object\n",
       "secondary_outcome_measures          object\n",
       "sponsor                              int64\n",
       "enrollment                           int64\n",
       "study_type                           int64\n",
       "study_design                         int64\n",
       "locations                           object\n",
       "study_duration_days                float64\n",
       "sex_all                               bool\n",
       "sex_female                            bool\n",
       "sex_male                              bool\n",
       "has_child                            int64\n",
       "has_adult                            int64\n",
       "has_older_adult                      int64\n",
       "phase1                               int64\n",
       "phase2                               int64\n",
       "phase3                               int64\n",
       "funder_fed                            bool\n",
       "funder_indiv                          bool\n",
       "funder_industry                       bool\n",
       "funder_network                        bool\n",
       "funder_nih                            bool\n",
       "funder_other                          bool\n",
       "funder_other_gov                      bool\n",
       "funder_unknown                        bool\n",
       "missing_start_date                   int64\n",
       "missing_primary_completion_date      int64\n",
       "missing_completion_date              int64\n",
       "dtype: object"
      ]
     },
     "execution_count": 15,
     "metadata": {},
     "output_type": "execute_result"
    }
   ],
   "source": [
    "df.dtypes"
   ]
  },
  {
   "cell_type": "code",
   "execution_count": null,
   "id": "a57383e4",
   "metadata": {},
   "outputs": [],
   "source": [
    "df_model = df.copy()\n",
    "\n",
    "# Droping high-cardinality text columns that are not used right now\n",
    "df_model = df_model.drop([\n",
    "    'conditions',\n",
    "    'interventions',\n",
    "    'primary_outcome_measures',\n",
    "    'secondary_outcome_measures',\n",
    "    'locations'\n",
    "], axis=1)"
   ]
  },
  {
   "cell_type": "code",
   "execution_count": 18,
   "id": "031a2787",
   "metadata": {},
   "outputs": [],
   "source": [
    "df_model.to_csv('../data/processed/df_model.csv', index=False)"
   ]
  },
  {
   "cell_type": "code",
   "execution_count": 17,
   "id": "f8359a9d",
   "metadata": {},
   "outputs": [
    {
     "data": {
      "text/plain": [
       "study_status                         int64\n",
       "sponsor                              int64\n",
       "enrollment                           int64\n",
       "study_type                           int64\n",
       "study_design                         int64\n",
       "study_duration_days                float64\n",
       "sex_all                               bool\n",
       "sex_female                            bool\n",
       "sex_male                              bool\n",
       "has_child                            int64\n",
       "has_adult                            int64\n",
       "has_older_adult                      int64\n",
       "phase1                               int64\n",
       "phase2                               int64\n",
       "phase3                               int64\n",
       "funder_fed                            bool\n",
       "funder_indiv                          bool\n",
       "funder_industry                       bool\n",
       "funder_network                        bool\n",
       "funder_nih                            bool\n",
       "funder_other                          bool\n",
       "funder_other_gov                      bool\n",
       "funder_unknown                        bool\n",
       "missing_start_date                   int64\n",
       "missing_primary_completion_date      int64\n",
       "missing_completion_date              int64\n",
       "dtype: object"
      ]
     },
     "execution_count": 17,
     "metadata": {},
     "output_type": "execute_result"
    }
   ],
   "source": [
    "df_model.dtypes"
   ]
  }
 ],
 "metadata": {
  "kernelspec": {
   "display_name": "Python 3",
   "language": "python",
   "name": "python3"
  },
  "language_info": {
   "codemirror_mode": {
    "name": "ipython",
    "version": 3
   },
   "file_extension": ".py",
   "mimetype": "text/x-python",
   "name": "python",
   "nbconvert_exporter": "python",
   "pygments_lexer": "ipython3",
   "version": "3.10.11"
  }
 },
 "nbformat": 4,
 "nbformat_minor": 5
}
